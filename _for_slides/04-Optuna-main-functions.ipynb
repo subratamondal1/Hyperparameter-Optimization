{
 "cells": [
  {
   "cell_type": "code",
   "execution_count": 1,
   "metadata": {},
   "outputs": [],
   "source": [
    "import numpy as np\n",
    "import pandas as pd\n",
    "import matplotlib.pyplot as plt\n",
    "\n",
    "from sklearn.datasets import load_breast_cancer\n",
    "from sklearn.metrics import accuracy_score, roc_auc_score\n",
    "from sklearn.model_selection import cross_val_score, train_test_split\n",
    "from sklearn.ensemble import RandomForestClassifier"
   ]
  },
  {
   "cell_type": "code",
   "execution_count": 2,
   "metadata": {},
   "outputs": [],
   "source": [
    "# load dataset\n",
    "\n",
    "breast_cancer_X, breast_cancer_y = load_breast_cancer(return_X_y=True)\n",
    "X = pd.DataFrame(breast_cancer_X)\n",
    "y = pd.Series(breast_cancer_y).map({0:1, 1:0})"
   ]
  },
  {
   "cell_type": "code",
   "execution_count": 3,
   "metadata": {},
   "outputs": [],
   "source": [
    "# split dataset into a train and test set\n",
    "\n",
    "X_train, X_test, y_train, y_test = train_test_split(\n",
    "    X, y, test_size=0.3, random_state=0)"
   ]
  },
  {
   "cell_type": "code",
   "execution_count": 4,
   "metadata": {},
   "outputs": [
    {
     "name": "stderr",
     "output_type": "stream",
     "text": [
      "\u001b[32m[I 2021-05-20 12:01:33,222]\u001b[0m A new study created in memory with name: no-name-59b1780c-22e9-4512-86ef-a43022c5a290\u001b[0m\n",
      "\u001b[32m[I 2021-05-20 12:01:36,917]\u001b[0m Trial 0 finished with value: 0.9397357028935976 and parameters: {'rf_n_estimators': 755, 'rf_max_depth': 2}. Best is trial 0 with value: 0.9397357028935976.\u001b[0m\n",
      "\u001b[32m[I 2021-05-20 12:01:40,110]\u001b[0m Trial 1 finished with value: 0.9171223513328776 and parameters: {'rf_n_estimators': 669, 'rf_max_depth': 1}. Best is trial 0 with value: 0.9397357028935976.\u001b[0m\n",
      "\u001b[32m[I 2021-05-20 12:01:43,047]\u001b[0m Trial 2 finished with value: 0.9221348826611985 and parameters: {'rf_n_estimators': 583, 'rf_max_depth': 1}. Best is trial 0 with value: 0.9397357028935976.\u001b[0m\n",
      "\u001b[32m[I 2021-05-20 12:01:44,114]\u001b[0m Trial 3 finished with value: 0.9095845674793043 and parameters: {'rf_n_estimators': 242, 'rf_max_depth': 1}. Best is trial 0 with value: 0.9397357028935976.\u001b[0m\n",
      "\u001b[32m[I 2021-05-20 12:01:47,577]\u001b[0m Trial 4 finished with value: 0.9397357028935976 and parameters: {'rf_n_estimators': 654, 'rf_max_depth': 2}. Best is trial 0 with value: 0.9397357028935976.\u001b[0m\n",
      "\u001b[32m[I 2021-05-20 12:01:49,352]\u001b[0m Trial 5 finished with value: 0.9221728563833826 and parameters: {'rf_n_estimators': 414, 'rf_max_depth': 1}. Best is trial 0 with value: 0.9397357028935976.\u001b[0m\n",
      "\u001b[32m[I 2021-05-20 12:01:52,442]\u001b[0m Trial 6 finished with value: 0.9121098200045568 and parameters: {'rf_n_estimators': 693, 'rf_max_depth': 1}. Best is trial 0 with value: 0.9397357028935976.\u001b[0m\n",
      "\u001b[32m[I 2021-05-20 12:01:53,330]\u001b[0m Trial 7 finished with value: 0.9146160856687172 and parameters: {'rf_n_estimators': 205, 'rf_max_depth': 1}. Best is trial 0 with value: 0.9397357028935976.\u001b[0m\n",
      "\u001b[32m[I 2021-05-20 12:01:56,600]\u001b[0m Trial 8 finished with value: 0.9397357028935976 and parameters: {'rf_n_estimators': 702, 'rf_max_depth': 2}. Best is trial 0 with value: 0.9397357028935976.\u001b[0m\n",
      "\u001b[32m[I 2021-05-20 12:01:59,583]\u001b[0m Trial 9 finished with value: 0.9447482342219184 and parameters: {'rf_n_estimators': 569, 'rf_max_depth': 3}. Best is trial 9 with value: 0.9447482342219184.\u001b[0m\n"
     ]
    }
   ],
   "source": [
    "import optuna\n",
    "\n",
    "def objective(trial):\n",
    "\n",
    "    rf_n_estimators = trial.suggest_int(\"rf_n_estimators\", 100, 1000)\n",
    "    rf_max_depth = trial.suggest_int(\"rf_max_depth\", 1, 4)\n",
    "    \n",
    "    model = RandomForestClassifier(\n",
    "        max_depth=rf_max_depth, n_estimators=rf_n_estimators\n",
    "    )\n",
    "\n",
    "    score = cross_val_score(model, X_train, y_train, cv=3)\n",
    "    accuracy = score.mean()\n",
    "    return accuracy\n",
    "\n",
    "study = optuna.create_study(direction=\"maximize\")\n",
    "study.optimize(objective, n_trials=10)"
   ]
  },
  {
   "cell_type": "code",
   "execution_count": 5,
   "metadata": {},
   "outputs": [
    {
     "data": {
      "text/plain": [
       "{'rf_n_estimators': 569, 'rf_max_depth': 3}"
      ]
     },
     "execution_count": 5,
     "metadata": {},
     "output_type": "execute_result"
    }
   ],
   "source": [
    "study.best_params"
   ]
  }
 ],
 "metadata": {
  "kernelspec": {
   "display_name": "html",
   "language": "python",
   "name": "html"
  },
  "language_info": {
   "codemirror_mode": {
    "name": "ipython",
    "version": 3
   },
   "file_extension": ".py",
   "mimetype": "text/x-python",
   "name": "python",
   "nbconvert_exporter": "python",
   "pygments_lexer": "ipython3",
   "version": "3.8.2"
  },
  "toc": {
   "base_numbering": 1,
   "nav_menu": {},
   "number_sections": true,
   "sideBar": true,
   "skip_h1_title": false,
   "title_cell": "Table of Contents",
   "title_sidebar": "Contents",
   "toc_cell": false,
   "toc_position": {},
   "toc_section_display": true,
   "toc_window_display": false
  }
 },
 "nbformat": 4,
 "nbformat_minor": 4
}
